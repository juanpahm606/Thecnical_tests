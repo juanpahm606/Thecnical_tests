{
 "cells": [
  {
   "cell_type": "code",
   "execution_count": 1,
   "id": "52030c4c-3b1c-46f8-ade0-ea978f16aa00",
   "metadata": {},
   "outputs": [],
   "source": [
    "import numpy as np\n",
    "class LinearRegression():\n",
    "    def __init__(self):\n",
    "        self.w=np.random.rand() \n",
    "        self.b=np.random.rand() \n",
    "        self.history=np.zeros(90000)\n",
    "    def loss_function(self,x,y):\n",
    "        chi_cuadrado=0\n",
    "        for i in range(len(x)):\n",
    "            chi_cuadrado=(1/len(x))*(0.5*((self.b+self.w*x[i])-y[i])**2)\n",
    "            #print(chi_cuadrado)\n",
    "        #print(chi_cuadrado)\n",
    "        return chi_cuadrado\n",
    "    def grad(self,x,y):\n",
    "        grad_b=0\n",
    "        grad_w=0\n",
    "        for i in range(len(x)):                                \n",
    "            grad_b+=(self.b+self.w*x[i]-y[i])*(2/len(x))\n",
    "            grad_w+=(self.b+self.w*x[i]-y[i])*x[i]*(2/len(x))\n",
    "        return grad_b,grad_w\n",
    "    def optimizer(self,grad_b,grad_w):\n",
    "        self.b=self.b-0.001*grad_b\n",
    "        self.w=self.w-0.001*grad_w\n",
    "        return self.b,self.w\n",
    "    def fit(self,x,y):\n",
    "        #b=0\n",
    "        #w=0\n",
    "        epochs=90000\n",
    "        for i in range(1,epochs):\n",
    "            self.loss_function(x,y)\n",
    "            chi_cuadrado=self.loss_function(x,y)\n",
    "            self.history[i]=chi_cuadrado\n",
    "            self.grad(x,y)\n",
    "            grad_b,grad_w=self.grad(x,y)\n",
    "            self.optimizer(grad_b,grad_w)\n",
    "        return self.b,self.w\n",
    "    def predict(self,x,y,b,w):\n",
    "        #X=np.arange(0.1,10, 0.1)\n",
    "        Y=np.zeros(len(x))\n",
    "        #epochs=30000\n",
    "        #self.b, self.w=self.fit(x,y)\n",
    "        for i in range(len(x)):\n",
    "            Y[i]=w*x[i]+b\n",
    "        self.Y=Y\n",
    "        return self.Y\n",
    "    def score(self,y,Y):\n",
    "        return 1-(np.sum((self.Y-y)**2))/(np.sum((self.Y-np.mean(self.Y))**2))\n"
   ]
  },
  {
   "cell_type": "markdown",
   "id": "8f08b725-87bb-48cb-8c8a-a02416b5253e",
   "metadata": {},
   "source": [
    "Prueba de datos de Hubble"
   ]
  },
  {
   "cell_type": "code",
   "execution_count": 2,
   "id": "de6ae64d-1897-4058-8a98-c8d9b4383744",
   "metadata": {},
   "outputs": [],
   "source": [
    "mean_m=[12.5,15.5,15.4,16.0,16.4,17.0,18.0,19.0,13.8,11.6]\n",
    "log10_v=[2.949390,3.580925,3.665581,3.683047,3.718502,3.875061,4.071882,4.292256,3.371068,2.799341]"
   ]
  },
  {
   "cell_type": "code",
   "execution_count": 3,
   "id": "7ca8e7cc-86b0-4954-bf26-e0bd56a319ad",
   "metadata": {},
   "outputs": [],
   "source": [
    "Prueba=LinearRegression()"
   ]
  },
  {
   "cell_type": "code",
   "execution_count": 5,
   "id": "1ffb046a-c990-4b22-85ea-4764a3c063af",
   "metadata": {},
   "outputs": [],
   "source": [
    "b,W=Prueba.fit(mean_m,log10_v)"
   ]
  },
  {
   "cell_type": "markdown",
   "id": "25e40fa9-5ecd-4aff-893b-6affa991306f",
   "metadata": {},
   "source": [
    "parámetros b y w "
   ]
  },
  {
   "cell_type": "code",
   "execution_count": 6,
   "id": "fade8992-3dc9-4923-a162-8bbd34a297a0",
   "metadata": {},
   "outputs": [
    {
     "data": {
      "text/plain": [
       "0.5480939787990375"
      ]
     },
     "execution_count": 6,
     "metadata": {},
     "output_type": "execute_result"
    }
   ],
   "source": [
    "b"
   ]
  },
  {
   "cell_type": "code",
   "execution_count": 7,
   "id": "f8d2591e-3699-4e34-9ec0-25188c85b3bb",
   "metadata": {},
   "outputs": [
    {
     "data": {
      "text/plain": [
       "0.19668847668990883"
      ]
     },
     "execution_count": 7,
     "metadata": {},
     "output_type": "execute_result"
    }
   ],
   "source": [
    "W"
   ]
  },
  {
   "cell_type": "code",
   "execution_count": 9,
   "id": "a5ff2fa8-8605-464c-acdf-ff2e5af909e6",
   "metadata": {},
   "outputs": [],
   "source": [
    "log10_v_pred=Prueba.predict(mean_m,log10_v,b,W)"
   ]
  },
  {
   "cell_type": "markdown",
   "id": "29b96850-3759-49e7-ba18-e3da170eb4f8",
   "metadata": {},
   "source": [
    "Valores predichos por el modelo entrenado"
   ]
  },
  {
   "cell_type": "code",
   "execution_count": 10,
   "id": "54f1f16c-53da-43c8-a981-49feefa41454",
   "metadata": {},
   "outputs": [
    {
     "data": {
      "text/plain": [
       "array([3.00669994, 3.59676537, 3.57709652, 3.69510961, 3.773785  ,\n",
       "       3.89179808, 4.08848656, 4.28517504, 3.26239496, 2.82968031])"
      ]
     },
     "execution_count": 10,
     "metadata": {},
     "output_type": "execute_result"
    }
   ],
   "source": [
    "log10_v_pred"
   ]
  },
  {
   "cell_type": "code",
   "execution_count": 12,
   "id": "62088739-5f4b-4636-84cb-0920b87f2e03",
   "metadata": {},
   "outputs": [],
   "source": [
    "Score_R2=Prueba.score(log10_v,log10_v_pred)"
   ]
  },
  {
   "cell_type": "markdown",
   "id": "c3901d64-9ce6-4509-8a2f-31a7a8b35062",
   "metadata": {},
   "source": [
    "Coeficiente $R^{2}$"
   ]
  },
  {
   "cell_type": "code",
   "execution_count": 13,
   "id": "322e9340-2e9e-466d-8915-ffba3f67b09c",
   "metadata": {},
   "outputs": [
    {
     "data": {
      "text/plain": [
       "0.9852551687282338"
      ]
     },
     "execution_count": 13,
     "metadata": {},
     "output_type": "execute_result"
    }
   ],
   "source": [
    "Score_R2"
   ]
  },
  {
   "cell_type": "code",
   "execution_count": null,
   "id": "a0061898-ab36-4493-8266-46ad0530a11e",
   "metadata": {},
   "outputs": [],
   "source": []
  },
  {
   "cell_type": "code",
   "execution_count": null,
   "id": "02af89c0-08cb-4541-af40-1aac37ad4533",
   "metadata": {},
   "outputs": [],
   "source": []
  }
 ],
 "metadata": {
  "kernelspec": {
   "display_name": "Python 3 (ipykernel)",
   "language": "python",
   "name": "python3"
  },
  "language_info": {
   "codemirror_mode": {
    "name": "ipython",
    "version": 3
   },
   "file_extension": ".py",
   "mimetype": "text/x-python",
   "name": "python",
   "nbconvert_exporter": "python",
   "pygments_lexer": "ipython3",
   "version": "3.10.3"
  }
 },
 "nbformat": 4,
 "nbformat_minor": 5
}
